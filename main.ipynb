{
 "cells": [
  {
   "cell_type": "code",
   "execution_count": 2,
   "metadata": {},
   "outputs": [
    {
     "name": "stderr",
     "output_type": "stream",
     "text": [
      "Matplotlib created a temporary config/cache directory at /Users/dmivilensky/.matplotlib because the default path (/var/folders/4w/lpt30zrj5vb3cq5mfxb3x50h0000gq/T/matplotlib-xylj4nqi) is not a writable directory; it is highly recommended to set the MPLCONFIGDIR environment variable to a writable directory, in particular to speed up the import of Matplotlib and to better support multiprocessing.\n"
     ]
    }
   ],
   "source": [
    "import numpy as np\n",
    "from numpy.linalg import norm\n",
    "from numpy import random as rnd\n",
    "from scipy.sparse import csr_matrix, random, hstack\n",
    "from functools import partial\n",
    "import time\n",
    "import matplotlib.pyplot as plt\n",
    "%matplotlib inline"
   ]
  },
  {
   "cell_type": "code",
   "execution_count": 3,
   "metadata": {},
   "outputs": [],
   "source": [
    "n = 15_000\n",
    "m = 10_000\n",
    "gamma = 0.6 "
   ]
  },
  {
   "cell_type": "code",
   "execution_count": 4,
   "metadata": {},
   "outputs": [],
   "source": [
    "# significant acceleration, heterogeneous matrix\n",
    "# sparsities = rnd.choice([0.1, 0.9], p=[0.2, 0.8], size=m)\n",
    "# sparsities[rnd.randint(m)] = 1"
   ]
  },
  {
   "cell_type": "code",
   "execution_count": 53,
   "metadata": {},
   "outputs": [],
   "source": [
    "sparsities = rnd.exponential(scale=0.1, size=m).clip(0, 1)"
   ]
  },
  {
   "cell_type": "code",
   "execution_count": 54,
   "metadata": {},
   "outputs": [],
   "source": [
    "A_ = [random(n, 1, density=sparsities[i], format='csr') for i in range(m)]"
   ]
  },
  {
   "cell_type": "code",
   "execution_count": 55,
   "metadata": {},
   "outputs": [],
   "source": [
    "A = hstack(A_).T.tocsc()"
   ]
  },
  {
   "cell_type": "code",
   "execution_count": 56,
   "metadata": {},
   "outputs": [],
   "source": [
    "A.data[:] = 1 / gamma"
   ]
  },
  {
   "cell_type": "code",
   "execution_count": 57,
   "metadata": {},
   "outputs": [
    {
     "data": {
      "text/plain": [
       "0.113"
      ]
     },
     "execution_count": 57,
     "metadata": {},
     "output_type": "execute_result"
    }
   ],
   "source": [
    "s = max(A.getcol(k).count_nonzero() / m for k in range(n))\n",
    "s"
   ]
  },
  {
   "cell_type": "code",
   "execution_count": 58,
   "metadata": {},
   "outputs": [],
   "source": [
    "L_ = [np.max((A.getcol(k) * gamma).toarray() ** 2) for k in range(n)]\n",
    "L = max(norm((A.getcol(k) * gamma).toarray())**2 for k in range(n))"
   ]
  },
  {
   "cell_type": "code",
   "execution_count": 59,
   "metadata": {},
   "outputs": [],
   "source": [
    "mu = 0"
   ]
  },
  {
   "cell_type": "code",
   "execution_count": 60,
   "metadata": {},
   "outputs": [],
   "source": [
    "def f_(x, A, mu, gamma):\n",
    "    mult_ = A.dot(x)\n",
    "    \n",
    "    # log-sum-exp trick\n",
    "    c = mult_.max()\n",
    "    softmax = c + np.log(np.exp(mult_ - c).sum())\n",
    "    \n",
    "    loss = gamma * softmax + (mu/2) * norm(x)**2\n",
    "    return loss\n",
    "\n",
    "f = partial(f_, A=A, mu=mu, gamma=gamma)"
   ]
  },
  {
   "cell_type": "code",
   "execution_count": 61,
   "metadata": {},
   "outputs": [],
   "source": [
    "def grad_f_(x, A, expAx, expAxSum, mu, gamma, coord=-1, Acol=None):\n",
    "    if coord != -1:\n",
    "        grad_softmax = Acol.T.dot(expAx) / max(1e-10, expAxSum)\n",
    "        grad_loss = gamma * grad_softmax + mu * x[coord]\n",
    "    else:\n",
    "        grad_softmax = A.T.dot(expAx) / max(1e-10, expAxSum)\n",
    "        grad_loss = gamma * grad_softmax + mu * x\n",
    "    \n",
    "    return grad_loss\n",
    "\n",
    "def stoch_grad():\n",
    "    expAx = None\n",
    "    maxAx = 0\n",
    "    expAxSum = 0\n",
    "    lastAcol = None\n",
    "\n",
    "    def stoch_grad_f(x, A, mu, gamma, changed_coord=-1, get=-1, dx=None, zero_grad=False):\n",
    "        nonlocal expAx, expAxSum, lastAcol, maxAx\n",
    "        if zero_grad:\n",
    "            expAx = None\n",
    "            maxAx = 0\n",
    "            expAxSum = 0\n",
    "            lastAcol = None\n",
    "            return\n",
    "        \n",
    "        if expAx is None or changed_coord == -1:\n",
    "            Ax = A.dot(x)\n",
    "            maxAx = Ax.max()\n",
    "            expAx = np.exp(Ax - maxAx)\n",
    "            expAxSum = expAx.sum()\n",
    "        elif dx != 0:\n",
    "            if rnd.random() < 0.05:\n",
    "                Ax = A.dot(x)\n",
    "                maxAx = Ax.max()\n",
    "                expAx = np.exp(Ax - maxAx)\n",
    "                expAxSum = expAx.sum()\n",
    "            else:\n",
    "                if lastAcol is not None:\n",
    "                    r = dx[0] * lastAcol\n",
    "                else:\n",
    "                    r = dx[0] * A.getcol(changed_coord)\n",
    "                rnz = r.nonzero()\n",
    "                expAxSum -= expAx[rnz[0]].sum()\n",
    "                expAx[rnz[0]] = np.exp(np.clip(np.log(expAx[rnz[0]]) + r[rnz] - maxAx, None, 300))\n",
    "                expAxSum += expAx[rnz[0]].sum()\n",
    "        \n",
    "        lastAcol = A.getcol(get)\n",
    "        loss = grad_f_(x, A, expAx, expAxSum, mu, gamma, coord=get, Acol=lastAcol)\n",
    "        return loss\n",
    "\n",
    "    return stoch_grad_f\n",
    "\n",
    "def old_(x, A, b, gamma, get=-1, changed_coord=0, dx=0):\n",
    "    Ax = A.dot(x)\n",
    "    expAx = np.exp(Ax)\n",
    "    return grad_f_(x, A, expAx, expAx.sum(), mu, gamma, coord=get, Acol=A.getcol(get))\n",
    "\n",
    "grad_f = partial(stoch_grad(), A=A, mu=mu, gamma=gamma)\n",
    "grad_f_old = partial(old_, A=A, mu=mu, gamma=gamma)"
   ]
  },
  {
   "cell_type": "code",
   "execution_count": 62,
   "metadata": {},
   "outputs": [],
   "source": [
    "class FGM:\n",
    "    def __init__(self, L, grad_f, x0=None):\n",
    "        self.x = x0.copy() if x0 is not None else rnd.random(n)\n",
    "        self.y = self.x.copy()\n",
    "        self.L = L\n",
    "        self.k = 0\n",
    "        self.grad = grad_f\n",
    "    \n",
    "    def step(self):\n",
    "        start = time.time()\n",
    "        \n",
    "        prev_x = self.x.copy()\n",
    "        self.x = self.y - (1/self.L) * self.grad(self.y)\n",
    "        self.y = self.x + (self.k/(self.k+3)) * (self.x - prev_x)\n",
    "        self.k += 1\n",
    "        \n",
    "        duration = time.time() - start\n",
    "        return duration, self.x.copy()"
   ]
  },
  {
   "cell_type": "code",
   "execution_count": 63,
   "metadata": {},
   "outputs": [],
   "source": [
    "class GM:\n",
    "    def __init__(self, L, grad_f, x0=None):\n",
    "        self.x = x0.copy() if x0 is not None else rnd.random(n)\n",
    "        self.L = L\n",
    "        self.grad = grad_f\n",
    "    \n",
    "    def step(self):\n",
    "        start = time.time()\n",
    "        self.x = self.x - (1/self.L) * self.grad(self.x)\n",
    "        \n",
    "        duration = time.time() - start\n",
    "        return duration, self.x.copy()"
   ]
  },
  {
   "cell_type": "code",
   "execution_count": 64,
   "metadata": {},
   "outputs": [],
   "source": [
    "class CGM:\n",
    "    def __init__(self, L_, grad_f, x0=None):\n",
    "        self.last_dx = 0\n",
    "        self.last_di = 0\n",
    "        self.x = x0.copy() if x0 is not None else rnd.random(n)\n",
    "        self.L_ = L_\n",
    "        self.grad = grad_f\n",
    "    \n",
    "    def step(self):\n",
    "        start = time.time()\n",
    "        \n",
    "        i = rnd.randint(n)\n",
    "        dx = -(1/self.L_[i]) * self.grad(self.x, changed_coord=self.last_di, get=i, dx=self.last_dx)    \n",
    "        self.x[i] = self.x[i] + dx\n",
    "        \n",
    "        self.last_dx = dx\n",
    "        self.last_di = i\n",
    "        \n",
    "        duration = time.time() - start\n",
    "        return duration, self.x.copy()"
   ]
  },
  {
   "cell_type": "code",
   "execution_count": 65,
   "metadata": {},
   "outputs": [],
   "source": [
    "class CWGM:\n",
    "    def __init__(self, L_, grad_f, x0=None):\n",
    "        self.last_dx = 0\n",
    "        self.last_di = 0\n",
    "        self.x = x0.copy() if x0 is not None else rnd.random(n)\n",
    "        self.L_ = L_\n",
    "        self.p = L_ / sum(L_)\n",
    "        self.grad = grad_f\n",
    "    \n",
    "    def step(self):\n",
    "        start = time.time()\n",
    "        \n",
    "        i = rnd.choice(range(n), p=self.p)\n",
    "        dx = -(1/self.L_[i]) * self.grad(self.x, changed_coord=self.last_di, get=i, dx=self.last_dx)    \n",
    "        self.x[i] = self.x[i] + dx\n",
    "        \n",
    "        self.last_dx = dx\n",
    "        self.last_di = i\n",
    "        \n",
    "        duration = time.time() - start\n",
    "        return duration, self.x.copy()"
   ]
  },
  {
   "cell_type": "code",
   "execution_count": 66,
   "metadata": {},
   "outputs": [],
   "source": [
    "class FCGM:\n",
    "    def __init__(self, L_, grad_f, x0=None):\n",
    "        self.x = x0.copy() if x0 is not None else rnd.random(n)\n",
    "        self.v = self.x.copy()\n",
    "        self.L_ = L_\n",
    "        self.S = np.sqrt(L_).sum()\n",
    "        self.p = np.sqrt(L_) / self.S\n",
    "        self.A = 0\n",
    "        self.grad = grad_f\n",
    "    \n",
    "    def step(self):\n",
    "        start = time.time()\n",
    "        \n",
    "        i = rnd.choice(range(n), p=self.p)\n",
    "        a = np.roots([self.S ** 2, -1, -self.A]).max()\n",
    "        self.A += a\n",
    "        alpha = a / self.A\n",
    "        \n",
    "        y = (1 - alpha) * self.x + alpha * self.v\n",
    "        self.x = y.copy()\n",
    "        \n",
    "        grad_y = self.grad(y, get=i)\n",
    "        \n",
    "        self.x[i] -= (1/L_[i]) * grad_y\n",
    "        self.v[i] = self.v[i] - (a*self.S/np.sqrt(L_[i])) * grad_y\n",
    "        \n",
    "        duration = time.time() - start\n",
    "        return duration, self.x.copy()"
   ]
  },
  {
   "cell_type": "markdown",
   "metadata": {},
   "source": [
    "$\\psi_{x, L_h}(y) = h(x) + \\langle \\nabla h(x), y - x \\rangle + L_h \\|y - x\\|_2^2 + g(y)$"
   ]
  },
  {
   "cell_type": "code",
   "execution_count": 67,
   "metadata": {},
   "outputs": [],
   "source": [
    "class UM:\n",
    "    def __init__(self, H, L_, grad_f, subsolver=CGM, x0=None, component=True):\n",
    "        self.x = x0.copy() if x0 is not None else rnd.random(n)\n",
    "        self.y = self.x.copy()\n",
    "        self.A = 0\n",
    "        self.H = H\n",
    "        self.lambd = 1 / (2*H)\n",
    "        self.L_inn = [(Li + H) for Li in L_]\n",
    "        self.grad = grad_f\n",
    "        self.subsolver = subsolver\n",
    "        self.component = component\n",
    "        \n",
    "    def grad_Omega(self, y, x, get=-1, changed_coord=0, dx=0):\n",
    "        grad_g = self.grad(y, get=get, changed_coord=changed_coord, dx=dx)\n",
    "        if get == -1:\n",
    "            return grad_g + self.H * (y - x)\n",
    "        else:\n",
    "            return grad_g + self.H * (y[get] - x[get])\n",
    "    \n",
    "    def step(self, t=10):\n",
    "        a = (self.lambd + np.sqrt(self.lambd**2 + 4*self.lambd*self.A)) / 2\n",
    "        \n",
    "        x_wave = self.A/(self.A+a) * self.y + a/(self.A+a) * self.x\n",
    "        if self.component:\n",
    "            optimizer = self.subsolver(self.L_inn, partial(self.grad_Omega, x=x_wave), x0=self.y)\n",
    "        else:\n",
    "            optimizer = self.subsolver(self.H * 1.5, partial(self.grad_Omega, x=x_wave), x0=self.y)\n",
    "        \n",
    "        durations = np.zeros(t+1)\n",
    "        ys = []\n",
    "        for i in range(t):\n",
    "            duration, self.y = optimizer.step()\n",
    "            if i == 0:\n",
    "                durations[i] = duration\n",
    "            else:\n",
    "                durations[i] = durations[i-1] + duration\n",
    "            ys.append(self.y)\n",
    "            \n",
    "            if norm(self.grad_Omega(self.y, x_wave)) <= 1/8 * norm(self.grad(self.y)):\n",
    "                break\n",
    "            \n",
    "        start = time.time()\n",
    "        self.x -= a * self.grad(self.y)\n",
    "        durations[i+1] = durations[i] + (time.time() - start)\n",
    "        ys.append(self.y)\n",
    "            \n",
    "        self.A += a\n",
    "        return durations[:i+2], ys"
   ]
  },
  {
   "cell_type": "code",
   "execution_count": 68,
   "metadata": {},
   "outputs": [],
   "source": [
    "x0 = rnd.random(n)"
   ]
  },
  {
   "cell_type": "code",
   "execution_count": 69,
   "metadata": {},
   "outputs": [],
   "source": [
    "losses_fgm = [f(x0)]\n",
    "time_fgm = [0]\n",
    "\n",
    "optimizer = FGM(L + mu, grad_f, x0)\n",
    "\n",
    "for _ in range(600):\n",
    "    dt, x = optimizer.step()\n",
    "    \n",
    "    losses_fgm.append(f(x))\n",
    "    time_fgm.append(time_fgm[-1] + dt)"
   ]
  },
  {
   "cell_type": "code",
   "execution_count": 70,
   "metadata": {},
   "outputs": [],
   "source": [
    "losses_gm = [f(x0)]\n",
    "time_gm = [0]\n",
    "\n",
    "optimizer = GM(L + mu, grad_f, x0)\n",
    "\n",
    "for _ in range(600):\n",
    "    dt, x = optimizer.step()\n",
    "    \n",
    "    losses_gm.append(f(x))\n",
    "    time_gm.append(time_gm[-1] + dt)"
   ]
  },
  {
   "cell_type": "code",
   "execution_count": 71,
   "metadata": {},
   "outputs": [
    {
     "name": "stderr",
     "output_type": "stream",
     "text": [
      "<ipython-input-61-3e1c46cb6a4c>:44: RuntimeWarning: divide by zero encountered in log\n",
      "  expAx[rnz[0]] = np.exp(np.clip(np.log(expAx[rnz[0]]) + r[rnz] - maxAx, None, 300))\n"
     ]
    }
   ],
   "source": [
    "losses_cgm = [f(x0)]\n",
    "time_cgm = [0]\n",
    "\n",
    "optimizer = CGM([Li + mu for Li in L_], grad_f, x0)\n",
    "\n",
    "for _ in range(600):\n",
    "    dt, x = optimizer.step()\n",
    "    \n",
    "    losses_cgm.append(f(x))\n",
    "    time_cgm.append(time_cgm[-1] + dt)"
   ]
  },
  {
   "cell_type": "code",
   "execution_count": 72,
   "metadata": {},
   "outputs": [],
   "source": [
    "losses_fcgm = [f(x0)]\n",
    "time_fcgm = [0]\n",
    "\n",
    "optimizer = FCGM([Li + mu for Li in L_], grad_f, x0)\n",
    "\n",
    "for _ in range(600):\n",
    "    dt, x = optimizer.step()\n",
    "    \n",
    "    losses_fcgm.append(f(x))\n",
    "    time_fcgm.append(time_fcgm[-1] + dt)"
   ]
  },
  {
   "cell_type": "code",
   "execution_count": 73,
   "metadata": {},
   "outputs": [],
   "source": [
    "grad_f(None, zero_grad=True)"
   ]
  },
  {
   "cell_type": "code",
   "execution_count": 74,
   "metadata": {},
   "outputs": [
    {
     "name": "stderr",
     "output_type": "stream",
     "text": [
      "<ipython-input-61-3e1c46cb6a4c>:44: RuntimeWarning: divide by zero encountered in log\n",
      "  expAx[rnz[0]] = np.exp(np.clip(np.log(expAx[rnz[0]]) + r[rnz] - maxAx, None, 300))\n"
     ]
    }
   ],
   "source": [
    "losses_umc = [f(x0)]\n",
    "time_umc = [0]\n",
    "\n",
    "optimizer = UM(L * 0.0001, [Li + mu for Li in L_], grad_f, subsolver=CWGM, x0=x0)\n",
    "\n",
    "for _ in range(400):\n",
    "    dts, xs = optimizer.step(t=5)\n",
    "    \n",
    "    losses_umc += [f(x) for x in xs]\n",
    "    time_umc += (time_umc[-1] + dts).tolist()"
   ]
  },
  {
   "cell_type": "code",
   "execution_count": 75,
   "metadata": {},
   "outputs": [
    {
     "data": {
      "text/plain": [
       "1.4025825631558968"
      ]
     },
     "execution_count": 75,
     "metadata": {},
     "output_type": "execute_result"
    }
   ],
   "source": [
    "np.min(losses_fgm)"
   ]
  },
  {
   "cell_type": "code",
   "execution_count": 76,
   "metadata": {},
   "outputs": [],
   "source": [
    "f_opt = np.min(losses_fgm)"
   ]
  },
  {
   "cell_type": "code",
   "execution_count": 77,
   "metadata": {},
   "outputs": [],
   "source": [
    "import matplotlib\n",
    "matplotlib.rcParams.update({'font.size': 14})"
   ]
  },
  {
   "cell_type": "code",
   "execution_count": 78,
   "metadata": {},
   "outputs": [
    {
     "data": {
      "text/plain": [
       "<matplotlib.legend.Legend at 0x1172e4370>"
      ]
     },
     "execution_count": 78,
     "metadata": {},
     "output_type": "execute_result"
    },
    {
     "data": {
      "image/png": "[encoded data removed]",
      "text/plain": [
       "<Figure size 432x288 with 1 Axes>"
      ]
     },
     "metadata": {
      "needs_background": "light"
     },
     "output_type": "display_data"
    }
   ],
   "source": [
    "plt.semilogy(np.array(losses_fcgm)[:1000] - f_opt, label=\"FCGM\")\n",
    "plt.semilogy(np.array(losses_gm)[:1000] - f_opt, label=\"GM\")\n",
    "plt.semilogy(np.array(losses_fgm)[:1000] - f_opt, label=\"FGM\")\n",
    "plt.semilogy(np.array(losses_umc)[:1000] - f_opt, label=\"UMC\")\n",
    "\n",
    "plt.title('$n = 20 000, m = 15 000, s = 11 200$')\n",
    "plt.ylabel('$f(x^i) - f^*$ (log-scale)')\n",
    "plt.xlabel('N')\n",
    "plt.legend()\n",
    "# plt.savefig('results_iter.pdf')"
   ]
  },
  {
   "cell_type": "code",
   "execution_count": 87,
   "metadata": {},
   "outputs": [],
   "source": [
    "max_time = 35"
   ]
  },
  {
   "cell_type": "code",
   "execution_count": 88,
   "metadata": {},
   "outputs": [
    {
     "data": {
      "text/plain": [
       "1130.0"
      ]
     },
     "execution_count": 88,
     "metadata": {},
     "output_type": "execute_result"
    }
   ],
   "source": [
    "s * m"
   ]
  },
  {
   "cell_type": "code",
   "execution_count": 89,
   "metadata": {},
   "outputs": [],
   "source": [
    "import pickle"
   ]
  },
  {
   "cell_type": "code",
   "execution_count": 90,
   "metadata": {},
   "outputs": [],
   "source": [
    "# with open('times_n15k_m10k_homogen.data', 'wb') as file:\n",
    "#     pickle.dump([time_cgm, time_fcgm, time_gm, time_fgm, time_umc], file)"
   ]
  },
  {
   "cell_type": "code",
   "execution_count": 91,
   "metadata": {},
   "outputs": [],
   "source": [
    "# with open('losses_n15k_m10k_homogen.data', 'wb') as file:\n",
    "#     pickle.dump([losses_cgm, losses_fcgm, losses_gm, losses_fgm, losses_umc], file)"
   ]
  },
  {
   "cell_type": "code",
   "execution_count": 92,
   "metadata": {},
   "outputs": [],
   "source": [
    "cgm_idx = np.searchsorted(np.array(time_cgm), max_time)\n",
    "fcgm_idx = np.searchsorted(np.array(time_fcgm), max_time)\n",
    "gm_idx = np.searchsorted(np.array(time_gm), max_time)\n",
    "fgm_idx = np.searchsorted(np.array(time_fgm), max_time)\n",
    "umc_idx = np.searchsorted(np.array(time_umc), max_time)"
   ]
  },
  {
   "cell_type": "code",
   "execution_count": 93,
   "metadata": {},
   "outputs": [],
   "source": [
    "import tikzplotlib"
   ]
  },
  {
   "cell_type": "code",
   "execution_count": 94,
   "metadata": {},
   "outputs": [
    {
     "data": {
      "image/png": "[encoded data removed]",
      "text/plain": [
       "<Figure size 432x288 with 1 Axes>"
      ]
     },
     "metadata": {
      "needs_background": "light"
     },
     "output_type": "display_data"
    }
   ],
   "source": [
    "# plt.semilogy(time_cgm[:cgm_idx], np.array(losses_cgm)[:cgm_idx] - f_opt, label=\"CGM\")\n",
    "plt.semilogy(time_fcgm[:fcgm_idx], np.array(losses_fcgm)[:fcgm_idx] - f_opt, label=\"FCGM\")\n",
    "plt.semilogy(time_gm[:gm_idx], np.array(losses_gm)[:gm_idx] - f_opt, label=\"GM\")\n",
    "plt.semilogy(time_fgm[:fgm_idx], np.array(losses_fgm)[:fgm_idx] - f_opt, label=\"FGM\")\n",
    "plt.semilogy(time_umc[:umc_idx], np.array(losses_umc)[:umc_idx] - f_opt, label=\"UMC\")\n",
    "\n",
    "plt.title('$n = 15 000, m = 10 000, s = 1 100$')\n",
    "plt.ylabel('$f(x^i) - f^*$ (log-scale)')\n",
    "plt.xlabel('T, s')\n",
    "plt.legend()\n",
    "# plt.savefig('results_time.pdf')\n",
    "tikzplotlib.save('test_catalyst.tex')"
   ]
  },
  {
   "cell_type": "code",
   "execution_count": null,
   "metadata": {},
   "outputs": [],
   "source": []
  },
  {
   "cell_type": "code",
   "execution_count": null,
   "metadata": {},
   "outputs": [],
   "source": []
  }
 ],
 "metadata": {
  "kernelspec": {
   "display_name": "Python 3",
   "language": "python",
   "name": "python3"
  },
  "language_info": {
   "codemirror_mode": {
    "name": "ipython",
    "version": 3
   },
   "file_extension": ".py",
   "mimetype": "text/x-python",
   "name": "python",
   "nbconvert_exporter": "python",
   "pygments_lexer": "ipython3",
   "version": "3.8.3"
  }
 },
 "nbformat": 4,
 "nbformat_minor": 4
}
